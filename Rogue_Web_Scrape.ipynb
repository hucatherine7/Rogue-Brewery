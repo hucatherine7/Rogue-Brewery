{
 "cells": [
  {
   "cell_type": "code",
   "execution_count": 40,
   "metadata": {},
   "outputs": [],
   "source": [
    "from urllib.request import urlopen as uReq\n",
    "from bs4 import BeautifulSoup as soup"
   ]
  },
  {
   "cell_type": "code",
   "execution_count": 41,
   "metadata": {},
   "outputs": [],
   "source": [
    "my_url = 'https://www.rogue.com/beers'\n",
    "\n",
    "#Opening up connection, grabbing the page\n",
    "uClient = uReq(my_url)\n",
    "page_html = uClient.read()\n",
    "uClient.close()\n"
   ]
  },
  {
   "cell_type": "code",
   "execution_count": 42,
   "metadata": {},
   "outputs": [
    {
     "data": {
      "text/plain": [
       "<h1 class=\"title\">Beers</h1>"
      ]
     },
     "execution_count": 42,
     "metadata": {},
     "output_type": "execute_result"
    }
   ],
   "source": [
    "#Parsing the html file, because it's a lot of text right now, into a variable\n",
    "page_soup = soup(page_html, \"html.parser\")\n",
    "\n",
    "#Test print, prints the header\n",
    "page_soup.h1"
   ]
  },
  {
   "cell_type": "code",
   "execution_count": 43,
   "metadata": {},
   "outputs": [
    {
     "data": {
      "text/plain": [
       "32"
      ]
     },
     "execution_count": 43,
     "metadata": {},
     "output_type": "execute_result"
    }
   ],
   "source": [
    "#Grabs each product\n",
    "containers = page_soup.findAll(\"li\", {\"class\": \"column product-grid-item is-half-mobile is-one-third-tablet is-one-third-widescreen is-one-quarter-fullhd\"})\n",
    "\n",
    "#How many objects did it find?\n",
    "len(containers)\n"
   ]
  },
  {
   "cell_type": "code",
   "execution_count": 44,
   "metadata": {},
   "outputs": [
    {
     "data": {
      "text/plain": [
       "<li class=\"column product-grid-item is-half-mobile is-one-third-tablet is-one-third-widescreen is-one-quarter-fullhd\">\n",
       "<a href=\"https://www.rogue.com/beers/batsquatch\">\n",
       "<figure class=\"image\">\n",
       "<img alt=\"\" src=\"https://www.rogue.com/thumbs/thumbs/cached-images/products/batsquatch/batsquatchactual_hero_image_can_trimmed_top-175x298.jpg\"/> </figure>\n",
       "<h5 class=\"title is-uppercase has-text-dark\">BATSQUATCH</h5>\n",
       "</a>\n",
       "</li>"
      ]
     },
     "execution_count": 44,
     "metadata": {},
     "output_type": "execute_result"
    }
   ],
   "source": [
    "#Looking at the info for the first container\n",
    "container = containers[0]\n",
    "container"
   ]
  },
  {
   "cell_type": "code",
   "execution_count": 45,
   "metadata": {},
   "outputs": [
    {
     "data": {
      "text/plain": [
       "5"
      ]
     },
     "execution_count": 45,
     "metadata": {},
     "output_type": "execute_result"
    }
   ],
   "source": [
    "#Creating .csv file, instantiate write mode\n",
    "filename = \"abv_values.csv\"\n",
    "f = open(filename, \"w\")\n",
    "\n",
    "headers = \"ABV \\n\"\n",
    "\n",
    "#Writing a header for the column\n",
    "f.write(headers)"
   ]
  },
  {
   "cell_type": "code",
   "execution_count": 46,
   "metadata": {},
   "outputs": [],
   "source": [
    "#Loops through the individual beers on the initial page\n",
    "for container in containers:\n",
    "    \n",
    "    #Takes the link from the beer page, then accesses that link\n",
    "    beer_url = container.a[\"href\"]\n",
    "    uClient = uReq(beer_url)\n",
    "    beer_html = uClient.read()\n",
    "    uClient.close()\n",
    "    \n",
    "    #Parses out the non-html code\n",
    "    beer_soup = soup(beer_html, \"html.parser\")\n",
    "    \n",
    "    #Search for this particular class of div, what comes next is the abv\n",
    "    tempcontain = beer_soup.findAll(\"div\", {\"class\": \"subtitle is-4 has-text-weight-light\"})\n",
    "    \n",
    "    #Checks that the information contains three values. These are the abv, ibu, and srm. If\n",
    "    #true, then add that value to the .csv file\n",
    "    if len(tempcontain) == 3: \n",
    "        abv_val = tempcontain[0].span.text\n",
    "        f.write(abv_val + \"\\n\")\n",
    "    \n",
    "f.close()\n"
   ]
  },
  {
   "cell_type": "code",
   "execution_count": null,
   "metadata": {},
   "outputs": [],
   "source": []
  }
 ],
 "metadata": {
  "kernelspec": {
   "display_name": "Python 3",
   "language": "python",
   "name": "python3"
  },
  "language_info": {
   "codemirror_mode": {
    "name": "ipython",
    "version": 3
   },
   "file_extension": ".py",
   "mimetype": "text/x-python",
   "name": "python",
   "nbconvert_exporter": "python",
   "pygments_lexer": "ipython3",
   "version": "3.7.4"
  }
 },
 "nbformat": 4,
 "nbformat_minor": 2
}
