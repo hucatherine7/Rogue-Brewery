{
 "cells": [
  {
   "cell_type": "code",
   "execution_count": 1,
   "metadata": {},
   "outputs": [],
   "source": [
    "from urllib.request import urlopen as uReq\n",
    "from bs4 import BeautifulSoup as soup"
   ]
  },
  {
   "cell_type": "code",
   "execution_count": 2,
   "metadata": {},
   "outputs": [],
   "source": [
    "my_url = 'https://www.rogue.com/beers'\n",
    "\n",
    "#Opening up connection, grabbing the page\n",
    "uClient = uReq(my_url)\n",
    "page_html = uClient.read()\n",
    "uClient.close()\n"
   ]
  },
  {
   "cell_type": "code",
   "execution_count": 3,
   "metadata": {},
   "outputs": [
    {
     "data": {
      "text/plain": [
       "<p>Rogue brews a variety of ales and lagers at their World Headquarters in Newport, Oregon. Brewmaster Joel Shields is brewing up innovative beers and overseeing production on our 100 barrel brewing system. We bottle and can our ales and distribute them in all 50 states and 54 countries. Use the <a href=\"http://finder.rogue.com\">Rogue Finder</a> to hunt down Rogue ales and lagers near you.</p>"
      ]
     },
     "execution_count": 3,
     "metadata": {},
     "output_type": "execute_result"
    }
   ],
   "source": [
    "#Parsing the html file, because it's a lot of text right now, into a variable\n",
    "page_soup = soup(page_html, \"html.parser\")\n",
    "\n",
    "#Test print, prints the header\n",
    "page_soup.h1\n",
    "page_soup.p\n"
   ]
  },
  {
   "cell_type": "code",
   "execution_count": 4,
   "metadata": {},
   "outputs": [
    {
     "data": {
      "text/plain": [
       "32"
      ]
     },
     "execution_count": 4,
     "metadata": {},
     "output_type": "execute_result"
    }
   ],
   "source": [
    "#Grabs each product\n",
    "containers = page_soup.findAll(\"li\", {\"class\": \"column product-grid-item is-half-mobile is-one-third-tablet is-one-third-widescreen is-one-quarter-fullhd\"})\n",
    "\n",
    "#How many objects did it find?\n",
    "len(containers)\n"
   ]
  },
  {
   "cell_type": "code",
   "execution_count": 5,
   "metadata": {},
   "outputs": [],
   "source": [
    "#Looking at the info for the first container\n",
    "#container = containers[0]\n",
    "#container"
   ]
  },
  {
   "cell_type": "code",
   "execution_count": 6,
   "metadata": {},
   "outputs": [],
   "source": [
    "#Testing to pull out the link\n",
    "#container.a[\"href\"]"
   ]
  },
  {
   "cell_type": "code",
   "execution_count": 7,
   "metadata": {},
   "outputs": [
    {
     "data": {
      "text/plain": [
       "14"
      ]
     },
     "execution_count": 7,
     "metadata": {},
     "output_type": "execute_result"
    }
   ],
   "source": [
    "#Creating .csv file, instantiate a mode (w = write)\n",
    "filename = \"rogue_links.csv\"\n",
    "f = open(filename, \"w\")\n",
    "\n",
    "headers = \"Link to beers\\n\"\n",
    "\n",
    "#Writing a header for the column\n",
    "f.write(headers)"
   ]
  },
  {
   "cell_type": "code",
   "execution_count": 8,
   "metadata": {},
   "outputs": [],
   "source": [
    "for container in containers:\n",
    "    link = container.a[\"href\"]\n",
    "    f.write(link + \"\\n\")\n",
    "\n",
    "f.close()"
   ]
  },
  {
   "cell_type": "code",
   "execution_count": null,
   "metadata": {},
   "outputs": [],
   "source": []
  }
 ],
 "metadata": {
  "kernelspec": {
   "display_name": "Python 3",
   "language": "python",
   "name": "python3"
  },
  "language_info": {
   "codemirror_mode": {
    "name": "ipython",
    "version": 3
   },
   "file_extension": ".py",
   "mimetype": "text/x-python",
   "name": "python",
   "nbconvert_exporter": "python",
   "pygments_lexer": "ipython3",
   "version": "3.7.4"
  }
 },
 "nbformat": 4,
 "nbformat_minor": 2
}
