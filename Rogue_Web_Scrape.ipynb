{
 "cells": [
  {
   "cell_type": "markdown",
   "metadata": {},
   "source": [
    "## Web Scrape: Rogue Ales"
   ]
  },
  {
   "cell_type": "code",
   "execution_count": 82,
   "metadata": {},
   "outputs": [],
   "source": [
    "from urllib.request import urlopen as uReq\n",
    "from bs4 import BeautifulSoup as soup\n",
    "import numpy as np\n",
    "import pandas as pd\n",
    "import seaborn as sns\n",
    "sns.set(style=\"darkgrid\")"
   ]
  },
  {
   "cell_type": "code",
   "execution_count": 83,
   "metadata": {},
   "outputs": [],
   "source": [
    "my_url = 'https://www.rogue.com/beers'\n",
    "\n",
    "#Opening up connection, grabbing the page\n",
    "uClient = uReq(my_url)\n",
    "page_html = uClient.read()\n",
    "uClient.close()\n"
   ]
  },
  {
   "cell_type": "code",
   "execution_count": 84,
   "metadata": {},
   "outputs": [
    {
     "data": {
      "text/plain": [
       "<h1 class=\"title\">Beers</h1>"
      ]
     },
     "execution_count": 84,
     "metadata": {},
     "output_type": "execute_result"
    }
   ],
   "source": [
    "#Parsing the html file, because it's a lot of text right now, into a variable\n",
    "page_soup = soup(page_html, \"html.parser\")\n",
    "\n",
    "#Test print, prints the header\n",
    "page_soup.h1"
   ]
  },
  {
   "cell_type": "code",
   "execution_count": 85,
   "metadata": {},
   "outputs": [
    {
     "data": {
      "text/plain": [
       "32"
      ]
     },
     "execution_count": 85,
     "metadata": {},
     "output_type": "execute_result"
    }
   ],
   "source": [
    "#Grabs each product\n",
    "containers = page_soup.findAll(\"li\", {\"class\": \"column product-grid-item is-half-mobile is-one-third-tablet is-one-third-widescreen is-one-quarter-fullhd\"})\n",
    "\n",
    "#How many objects did it find?\n",
    "len(containers)\n"
   ]
  },
  {
   "cell_type": "code",
   "execution_count": 86,
   "metadata": {},
   "outputs": [
    {
     "data": {
      "text/plain": [
       "<li class=\"column product-grid-item is-half-mobile is-one-third-tablet is-one-third-widescreen is-one-quarter-fullhd\">\n",
       "<a href=\"https://www.rogue.com/beers/batsquatch\">\n",
       "<figure class=\"image\">\n",
       "<img alt=\"\" src=\"https://www.rogue.com/thumbs/thumbs/cached-images/products/batsquatch/batsquatchactual_hero_image_can_trimmed_top-175x298.jpg\"/> </figure>\n",
       "<h5 class=\"title is-uppercase has-text-dark\">BATSQUATCH</h5>\n",
       "</a>\n",
       "</li>"
      ]
     },
     "execution_count": 86,
     "metadata": {},
     "output_type": "execute_result"
    }
   ],
   "source": [
    "#Looking at the info for the first container\n",
    "container = containers[0]\n",
    "container"
   ]
  },
  {
   "cell_type": "code",
   "execution_count": 87,
   "metadata": {},
   "outputs": [
    {
     "data": {
      "text/plain": [
       "14"
      ]
     },
     "execution_count": 87,
     "metadata": {},
     "output_type": "execute_result"
    }
   ],
   "source": [
    "#Creating .csv file, instantiate write mode\n",
    "filename = \"abv_values.csv\"\n",
    "f = open(filename, \"w\")\n",
    "\n",
    "headers = \"ABV, IBU, SRM\\n\"\n",
    "\n",
    "#Writing a header for the column\n",
    "f.write(headers)"
   ]
  },
  {
   "cell_type": "code",
   "execution_count": 88,
   "metadata": {},
   "outputs": [],
   "source": [
    "#Loops through the individual beers on the initial page\n",
    "for container in containers:\n",
    "    \n",
    "    #Takes the link from the beer page, then accesses that link\n",
    "    beer_url = container.a[\"href\"]\n",
    "    uClient = uReq(beer_url)\n",
    "    beer_html = uClient.read()\n",
    "    uClient.close()\n",
    "    \n",
    "    #Parses out the non-html code\n",
    "    beer_soup = soup(beer_html, \"html.parser\")\n",
    "    \n",
    "    #Search for this particular class of div, what comes next is the abv\n",
    "    tempcontain = beer_soup.findAll(\"div\", {\"class\": \"subtitle is-4 has-text-weight-light\"})\n",
    "    \n",
    "    #Checks that the information contains three values. These are the abv, ibu, and srm. If\n",
    "    #true, then add that value to the .csv file\n",
    "    if len(tempcontain) == 3: \n",
    "        abv_val = tempcontain[0].span.text\n",
    "        ibu_val = tempcontain[1].span.text\n",
    "        srm_val = tempcontain[2].span.text\n",
    "        \n",
    "        f.write(abv_val + \",\" + ibu_val + \",\" + srm_val + \"\\n\")\n",
    "    \n",
    "f.close()"
   ]
  },
  {
   "cell_type": "markdown",
   "metadata": {},
   "source": [
    "## Data Visualization and Analysis"
   ]
  },
  {
   "cell_type": "code",
   "execution_count": 89,
   "metadata": {},
   "outputs": [
    {
     "name": "stdout",
     "output_type": "stream",
     "text": [
      "(26, 3)\n"
     ]
    },
    {
     "data": {
      "text/plain": [
       "Index(['ABV', ' IBU', ' SRM'], dtype='object')"
      ]
     },
     "execution_count": 89,
     "metadata": {},
     "output_type": "execute_result"
    }
   ],
   "source": [
    "df = pd.read_csv('abv_values.csv')\n",
    "print(df.shape)\n",
    "df.columns"
   ]
  },
  {
   "cell_type": "code",
   "execution_count": 90,
   "metadata": {},
   "outputs": [
    {
     "name": "stdout",
     "output_type": "stream",
     "text": [
      "<class 'pandas.core.frame.DataFrame'>\n",
      "RangeIndex: 26 entries, 0 to 25\n",
      "Data columns (total 3 columns):\n",
      "ABV     26 non-null float64\n",
      " IBU    26 non-null float64\n",
      " SRM    26 non-null float64\n",
      "dtypes: float64(3)\n",
      "memory usage: 752.0 bytes\n"
     ]
    }
   ],
   "source": [
    "df.info()"
   ]
  },
  {
   "cell_type": "code",
   "execution_count": 92,
   "metadata": {},
   "outputs": [
    {
     "data": {
      "text/html": [
       "<div>\n",
       "<style scoped>\n",
       "    .dataframe tbody tr th:only-of-type {\n",
       "        vertical-align: middle;\n",
       "    }\n",
       "\n",
       "    .dataframe tbody tr th {\n",
       "        vertical-align: top;\n",
       "    }\n",
       "\n",
       "    .dataframe thead th {\n",
       "        text-align: right;\n",
       "    }\n",
       "</style>\n",
       "<table border=\"1\" class=\"dataframe\">\n",
       "  <thead>\n",
       "    <tr style=\"text-align: right;\">\n",
       "      <th></th>\n",
       "      <th>ABV</th>\n",
       "      <th>IBU</th>\n",
       "      <th>SRM</th>\n",
       "    </tr>\n",
       "  </thead>\n",
       "  <tbody>\n",
       "    <tr>\n",
       "      <td>count</td>\n",
       "      <td>26.000000</td>\n",
       "      <td>26.000000</td>\n",
       "      <td>26.000000</td>\n",
       "    </tr>\n",
       "    <tr>\n",
       "      <td>mean</td>\n",
       "      <td>7.065385</td>\n",
       "      <td>38.942308</td>\n",
       "      <td>45.123077</td>\n",
       "    </tr>\n",
       "    <tr>\n",
       "      <td>std</td>\n",
       "      <td>1.992687</td>\n",
       "      <td>28.109190</td>\n",
       "      <td>66.711608</td>\n",
       "    </tr>\n",
       "    <tr>\n",
       "      <td>min</td>\n",
       "      <td>4.500000</td>\n",
       "      <td>5.000000</td>\n",
       "      <td>4.000000</td>\n",
       "    </tr>\n",
       "    <tr>\n",
       "      <td>25%</td>\n",
       "      <td>5.625000</td>\n",
       "      <td>15.250000</td>\n",
       "      <td>9.275000</td>\n",
       "    </tr>\n",
       "    <tr>\n",
       "      <td>50%</td>\n",
       "      <td>6.700000</td>\n",
       "      <td>34.000000</td>\n",
       "      <td>12.600000</td>\n",
       "    </tr>\n",
       "    <tr>\n",
       "      <td>75%</td>\n",
       "      <td>8.385000</td>\n",
       "      <td>53.250000</td>\n",
       "      <td>47.750000</td>\n",
       "    </tr>\n",
       "    <tr>\n",
       "      <td>max</td>\n",
       "      <td>13.600000</td>\n",
       "      <td>125.000000</td>\n",
       "      <td>290.000000</td>\n",
       "    </tr>\n",
       "  </tbody>\n",
       "</table>\n",
       "</div>"
      ],
      "text/plain": [
       "             ABV         IBU         SRM\n",
       "count  26.000000   26.000000   26.000000\n",
       "mean    7.065385   38.942308   45.123077\n",
       "std     1.992687   28.109190   66.711608\n",
       "min     4.500000    5.000000    4.000000\n",
       "25%     5.625000   15.250000    9.275000\n",
       "50%     6.700000   34.000000   12.600000\n",
       "75%     8.385000   53.250000   47.750000\n",
       "max    13.600000  125.000000  290.000000"
      ]
     },
     "execution_count": 92,
     "metadata": {},
     "output_type": "execute_result"
    }
   ],
   "source": [
    "df.describe()"
   ]
  },
  {
   "cell_type": "code",
   "execution_count": 93,
   "metadata": {},
   "outputs": [
    {
     "data": {
      "text/plain": [
       "<seaborn.axisgrid.PairGrid at 0x1a1f6f4e90>"
      ]
     },
     "execution_count": 93,
     "metadata": {},
     "output_type": "execute_result"
    },
    {
     "data": {
      "image/png": "[encoded data removed]",
      "text/plain": [
       "<Figure size 540x540 with 12 Axes>"
      ]
     },
     "metadata": {},
     "output_type": "display_data"
    }
   ],
   "source": [
    "sns.pairplot(df)"
   ]
  },
  {
   "cell_type": "code",
   "execution_count": 94,
   "metadata": {},
   "outputs": [
    {
     "data": {
      "text/plain": [
       "<matplotlib.axes._subplots.AxesSubplot at 0x1a2043dc10>"
      ]
     },
     "execution_count": 94,
     "metadata": {},
     "output_type": "execute_result"
    },
    {
     "data": {
      "image/png": "[encoded data removed]",
      "text/plain": [
       "<Figure size 432x288 with 1 Axes>"
      ]
     },
     "metadata": {},
     "output_type": "display_data"
    }
   ],
   "source": [
    "sns.regplot(x = \"ABV\", y = \" IBU\", data = df)"
   ]
  },
  {
   "cell_type": "code",
   "execution_count": 96,
   "metadata": {},
   "outputs": [
    {
     "data": {
      "text/plain": [
       "<matplotlib.axes._subplots.AxesSubplot at 0x1a1ff02950>"
      ]
     },
     "execution_count": 96,
     "metadata": {},
     "output_type": "execute_result"
    },
    {
     "data": {
      "image/png": "[encoded data removed]",
      "text/plain": [
       "<Figure size 432x288 with 1 Axes>"
      ]
     },
     "metadata": {},
     "output_type": "display_data"
    }
   ],
   "source": [
    "sns.regplot(x = \" SRM\", y = \" IBU\", data = df)"
   ]
  },
  {
   "cell_type": "code",
   "execution_count": null,
   "metadata": {},
   "outputs": [],
   "source": []
  }
 ],
 "metadata": {
  "kernelspec": {
   "display_name": "Python 3",
   "language": "python",
   "name": "python3"
  },
  "language_info": {
   "codemirror_mode": {
    "name": "ipython",
    "version": 3
   },
   "file_extension": ".py",
   "mimetype": "text/x-python",
   "name": "python",
   "nbconvert_exporter": "python",
   "pygments_lexer": "ipython3",
   "version": "3.7.4"
  }
 },
 "nbformat": 4,
 "nbformat_minor": 2
}
